{
  "cells": [
    {
      "cell_type": "markdown",
      "metadata": {
        "id": "view-in-github",
        "colab_type": "text"
      },
      "source": [
        "<a href=\"https://colab.research.google.com/github/Supraja1419/Supraja_INFO5731_spring2023/blob/main/INFO5731_Supraja_B_Assignment_One_fall2022_(1)_(1).ipynb\" target=\"_parent\"><img src=\"https://colab.research.google.com/assets/colab-badge.svg\" alt=\"Open In Colab\"/></a>"
      ]
    },
    {
      "cell_type": "markdown",
      "metadata": {
        "id": "Ryk8D1Q4Wsrp"
      },
      "source": [
        "# **INFO5731 Assignment One**"
      ]
    },
    {
      "cell_type": "markdown",
      "metadata": {
        "id": "90_NR8c5XGWc"
      },
      "source": [
        "# Question 1\n",
        "\n",
        "(20 points). Write a Python program to generate 12 random numbers between 1 and 100. Sort the list of numbers in ascending order and print it out. Sort the list of numbers in descending order and print it out. Calculate the average for the group and print it out."
      ]
    },
    {
      "cell_type": "code",
      "execution_count": null,
      "metadata": {
        "id": "5QX6bJjGWXY9",
        "outputId": "8c5d39da-3078-42db-f631-5713b6e71d02"
      },
      "outputs": [
        {
          "name": "stdout",
          "output_type": "stream",
          "text": [
            "Random_numbers ascending order list: [2, 3, 4, 5, 5, 6, 7, 9, 10, 11, 11, 12, 16, 17, 18, 19, 22, 23, 25, 26, 28, 28, 28, 28, 29, 29, 30, 31, 31, 32, 32, 33, 33, 34, 34, 35, 35, 40, 40, 42, 42, 43, 43, 44, 45, 45, 45, 46, 47, 48, 48, 50, 52, 52, 53, 54, 55, 55, 58, 58, 62, 62, 63, 64, 64, 64, 64, 67, 68, 69, 69, 69, 69, 70, 71, 71, 73, 74, 75, 79, 80, 80, 82, 85, 85, 86, 87, 88, 88, 92, 92, 94, 94, 95, 95, 96, 96, 97, 98, 98]\n",
            "\n",
            "Random_numbers descending order list: [98, 98, 97, 96, 96, 95, 95, 94, 94, 92, 92, 88, 88, 87, 86, 85, 85, 82, 80, 80, 79, 75, 74, 73, 71, 71, 70, 69, 69, 69, 69, 68, 67, 64, 64, 64, 64, 63, 62, 62, 58, 58, 55, 55, 54, 53, 52, 52, 50, 48, 48, 47, 46, 45, 45, 45, 44, 43, 43, 42, 42, 40, 40, 35, 35, 34, 34, 33, 33, 32, 32, 31, 31, 30, 29, 29, 28, 28, 28, 28, 26, 25, 23, 22, 19, 18, 17, 16, 12, 11, 11, 10, 9, 7, 6, 5, 5, 4, 3, 2]\n"
          ]
        }
      ],
      "source": [
        "# Your code here\n",
        "import random\n",
        "\n",
        "random_numbers = [random.randint(1, 100) for i in range(100)]\n",
        "\n",
        "print(f\"Random_numbers ascending order list: {sorted(random_numbers)}\\n\")\n",
        "\n",
        "print(f\"Random_numbers descending order list: {sorted(random_numbers, reverse=True)}\")\n"
      ]
    },
    {
      "cell_type": "markdown",
      "metadata": {
        "id": "1F_PZdH9Sh49"
      },
      "source": [
        "# Question 2\n",
        "(25 points). Write a program that will do the following string formatting tasks:\n",
        "\n",
        "(1) Ask the user to enter two sentences.\n",
        "\n",
        "(2) Make each sentence into a list. Each element in the list should correspond to a word in the sentence. For example, if the sentence is \"Alas! Am I alive? This is my first python program\", the program should print out ['Alas, '!', 'Am', 'I', 'alive, '?', 'This', 'is', 'my', 'first', 'python', 'program'].\n",
        "\n",
        "(3) Compare the two sentences. Print out a list of words that occur in both sentences.\n",
        "\n",
        "(4) Remove any punctuation from the sentence and print it back out. It should remove at least the following characters, but it can remove more: period(“.”), comma (“,”), semicolon (“;”), and colon (“:”)\n",
        "\n",
        "(5) Count the number of vowels in the sentences. Print out each vowel and the number of times it appears in the sentences, such as: a:2, e:1, i:0, etc"
      ]
    },
    {
      "cell_type": "code",
      "execution_count": null,
      "metadata": {
        "id": "Y0oOSlsOS0cq",
        "outputId": "cc68fb32-6f9a-4940-e4a2-3e9b9ef7357c"
      },
      "outputs": [
        {
          "name": "stdout",
          "output_type": "stream",
          "text": [
            "Enter first string: This is my first assignment.\n",
            "Enter second string: Will I able to get good score in this course?\n",
            "First list: ['This', 'is', 'my', 'first', 'assignment', '.']\n",
            "Second list: ['Will', 'I', 'able', 'to', 'get', 'good', 'score', 'in', 'this', 'course', '?']\n",
            "\n",
            "Following are common\n",
            "This\n",
            "\n",
            "Following are common without punctuation\n",
            "This\n",
            "\n",
            "Vowel frequency in first string: {'a': 1, 'e': 1, 'i': 4, 'o': 0, 'u': 0}\n"
          ]
        }
      ],
      "source": [
        "# Your code here\n",
        "import string\n",
        "import re\n",
        "\n",
        "# part 1\n",
        "one = input(\"Enter first string: \")\n",
        "two = input(\"Enter second string: \")\n",
        "\n",
        "# part 2\n",
        "# this splits using space and any of the symbols in [.,!?;:]\n",
        "a = re.findall(r\"[\\w']+|[.,!?;:]\", one)\n",
        "b = re.findall(r\"[\\w']+|[.,!?;:]\", two)\n",
        "\n",
        "print(\"First list:\",a)\n",
        "print(\"Second list:\",b)\n",
        "\n",
        "# part 3 printing common words\n",
        "print(\"\\nFollowing are common\")\n",
        "for word in a:\n",
        "    for other in b:\n",
        "        if word.lower() == other.lower():\n",
        "            print(word)\n",
        "\n",
        "# part 4, checking if the string is in punctuation or not\n",
        "print(\"\\nFollowing are common without punctuation\")\n",
        "for word in a:\n",
        "    for other in b:\n",
        "        if word.lower() == other.lower() and word not in string.punctuation:\n",
        "            print(word)\n",
        "\n",
        "vowels = {'a':0, 'e':0, 'i':0, 'o':0, 'u':0}\n",
        "for letter in one:\n",
        "    if letter.lower() in vowels:\n",
        "        vowels[letter.lower()] += 1\n",
        "\n",
        "print(\"\\nVowel frequency in first string:\",vowels)\n"
      ]
    },
    {
      "cell_type": "markdown",
      "metadata": {
        "id": "CmFoI4jDS9nx"
      },
      "source": [
        "# Question 3 \n",
        "\n",
        "(15 points). The formula that describes the volume V of a sphere with radius r is the following:\n",
        "\n",
        "$ V=\\frac{4}{3}\\ast\\ \\pi\\ast\\ r^3 $\n",
        "\n",
        "Write a program to calculate the value of V when r is in the range of 1–10. Output the result in the following format:\n",
        "\n",
        "\tr\tV\n",
        "\t1\t…\n",
        "\t2\t…\n",
        "\t3\t…\n"
      ]
    },
    {
      "cell_type": "code",
      "execution_count": null,
      "metadata": {
        "id": "pEyqeioAT95b",
        "outputId": "194aac65-b28d-471c-eaa2-bb2ac53e7f9d"
      },
      "outputs": [
        {
          "name": "stdout",
          "output_type": "stream",
          "text": [
            "r\t V\n",
            "1 \t 4.1888\n",
            "2 \t 33.5104\n",
            "3 \t 113.09759999999997\n",
            "4 \t 268.0832\n",
            "5 \t 523.6\n",
            "6 \t 904.7807999999998\n",
            "7 \t 1436.7584\n",
            "8 \t 2144.6656\n",
            "9 \t 3053.6352\n",
            "10 \t 4188.8\n"
          ]
        }
      ],
      "source": [
        "# Your code here\n",
        "# display headers\n",
        "print(\"r\\t V\")\n",
        "# for loop iterate from 1 to 10\n",
        "for r in range(1,11):\n",
        "    # calculate valume using the formula\n",
        "    volume=4/3*3.1416*r*r*r\n",
        "    # display volume\n",
        "    print(r,\"\\t\",volume)\n"
      ]
    },
    {
      "cell_type": "markdown",
      "metadata": {
        "id": "z3tBE7E-Xn5X"
      },
      "source": [
        "# Question 4\n",
        "\n",
        "(40 points). In the field of Data Science, data is often formatted as a comma-delimited (CSV) file, where each line in a file corresponds to a field's value. Refer to Chapter 9 (p. 106) for more information on comma-delimited files. To answer this question, you will need to download the file [Assignment1_denton_housing.csv](https://raw.githubusercontent.com/unt-iialab/info5731-spring2022/main/assignments/Assignment1_denton_housing.csv) included with this assignment. The file [Assignment1_denton_housing.csv](https://raw.githubusercontent.com/unt-iialab/info5731-spring2022/main/assignments/Assignment1_denton_housing.csv) contains statistics about housing in the city of Denton from 2008 to 2014. Write a program to implement the following questions.\n",
        "\n",
        "(1) (10 pts) Calculate the difference in the number of Occupied Housing Units from year to year and print it. The difference must be calculated for the consecutive years such as 2008-2009, 2009-2010 etc. Finally, print the values in the ascending order.\n",
        "\n",
        "(2) (10 pts) For all the years, calculate the percentage of housing units which are vacant an occupied. Print the results in the following format:\n",
        "\n",
        "Year Vacant Housing Units Occupied Housing Units\n",
        "\n",
        "    2008  30%   70%                          \n",
        "\t2009 ----- -----\n",
        "\t2010 ----- -----\n",
        "    2011 ----- -----\n",
        "\t2012 ----- -----\n",
        "    2013 ----- -----\n",
        "\t2014 ----- -----\n",
        "  \n",
        "  \n",
        "\n",
        "(3) (10 pts) Calculate and print the valued and years in which the highest number of housing units were vacant and occupied. Print the results in the following format:  \n",
        "\n",
        "                              Year\tValue\n",
        "\tVacant Housing Units\t  -----   -----\n",
        "\tOccupied Housing Units\t-----   -----\n",
        "\n",
        "(4) (10 pts) Calculate the harmonic mean of the total housing units and print it out. You can find the information about harmonic mean here: https://ncalculators.com/statistics/harmonic-mean-calculator.htm"
      ]
    },
    {
      "cell_type": "code",
      "execution_count": null,
      "metadata": {
        "id": "lqGYuHBhcsRH",
        "outputId": "7fc1d4c2-df9b-4d89-b932-99fb7bb65884"
      },
      "outputs": [
        {
          "name": "stdout",
          "output_type": "stream",
          "text": [
            "Shape:  (42, 3)\n"
          ]
        },
        {
          "data": {
            "text/html": [
              "<div>\n",
              "<style scoped>\n",
              "    .dataframe tbody tr th:only-of-type {\n",
              "        vertical-align: middle;\n",
              "    }\n",
              "\n",
              "    .dataframe tbody tr th {\n",
              "        vertical-align: top;\n",
              "    }\n",
              "\n",
              "    .dataframe thead th {\n",
              "        text-align: right;\n",
              "    }\n",
              "</style>\n",
              "<table border=\"1\" class=\"dataframe\">\n",
              "  <thead>\n",
              "    <tr style=\"text-align: right;\">\n",
              "      <th></th>\n",
              "      <th>year</th>\n",
              "      <th>title_field</th>\n",
              "      <th>value</th>\n",
              "    </tr>\n",
              "  </thead>\n",
              "  <tbody>\n",
              "    <tr>\n",
              "      <th>0</th>\n",
              "      <td>2014</td>\n",
              "      <td>Total Housing Units</td>\n",
              "      <td>49109</td>\n",
              "    </tr>\n",
              "    <tr>\n",
              "      <th>1</th>\n",
              "      <td>2014</td>\n",
              "      <td>Vacant Housing Units</td>\n",
              "      <td>2814</td>\n",
              "    </tr>\n",
              "    <tr>\n",
              "      <th>2</th>\n",
              "      <td>2014</td>\n",
              "      <td>Occupied Housing Units</td>\n",
              "      <td>46295</td>\n",
              "    </tr>\n",
              "    <tr>\n",
              "      <th>3</th>\n",
              "      <td>2013</td>\n",
              "      <td>Total Housing Units</td>\n",
              "      <td>47888</td>\n",
              "    </tr>\n",
              "    <tr>\n",
              "      <th>4</th>\n",
              "      <td>2013</td>\n",
              "      <td>Vacant Housing Units</td>\n",
              "      <td>4215</td>\n",
              "    </tr>\n",
              "  </tbody>\n",
              "</table>\n",
              "</div>"
            ],
            "text/plain": [
              "   year             title_field  value\n",
              "0  2014     Total Housing Units  49109\n",
              "1  2014    Vacant Housing Units   2814\n",
              "2  2014  Occupied Housing Units  46295\n",
              "3  2013     Total Housing Units  47888\n",
              "4  2013    Vacant Housing Units   4215"
            ]
          },
          "execution_count": 19,
          "metadata": {},
          "output_type": "execute_result"
        }
      ],
      "source": [
        "# Your code here\n",
        "import pandas as pd\n",
        "\n",
        "import statistics\n",
        "\n",
        "house = pd.read_csv('Assignment1_denton_housing.csv')\n",
        "print('Shape: ',house.shape)\n",
        "house.head()\n",
        "\n"
      ]
    },
    {
      "cell_type": "code",
      "execution_count": null,
      "metadata": {
        "scrolled": true,
        "id": "uNl4uFgoFlnC",
        "outputId": "1876acfa-673f-48c5-82f8-bd6dd2069c4c"
      },
      "outputs": [
        {
          "data": {
            "text/plain": [
              "Total Housing Units       7\n",
              "Vacant Housing Units      7\n",
              "Occupied Housing Units    7\n",
              "Owner Occupied            7\n",
              "Renter Occupied           7\n",
              "Median Gross Rent         7\n",
              "Name: title_field, dtype: int64"
            ]
          },
          "execution_count": 14,
          "metadata": {},
          "output_type": "execute_result"
        }
      ],
      "source": [
        "df['title_field'].value_counts()"
      ]
    },
    {
      "cell_type": "code",
      "execution_count": null,
      "metadata": {
        "id": "6PxqEu5oFlnC",
        "outputId": "128f94fd-33aa-44e8-f68d-399e5fbe688f"
      },
      "outputs": [
        {
          "data": {
            "text/plain": [
              "[-5091, -2622, -1565, -1404, 303, 795]"
            ]
          },
          "execution_count": 20,
          "metadata": {},
          "output_type": "execute_result"
        }
      ],
      "source": [
        "# (1) Calculate the difference in the number of Occupied Housing Units from year to year and print it.\n",
        "# The difference must be calculated for the consecutive years such as 2008-2009, 2009-2010 etc.\n",
        "# Finally, print the values in the ascending order.\n",
        "\n",
        "# number of ocupied houses\n",
        "occuped_houses = house[house['title_field'] == 'Occupied Housing Units'].sort_values(by=['year'])\n",
        "\n",
        "# the difference in the number of Occupied Housing Units from year to year\n",
        "diff_house = [list(occuped_houses['value'].values)[loop1] - list(occuped_houses['value'].values)[loop1+1]\\\n",
        "              for loop1 in range(len(occuped_houses)-1)]\n",
        "diff_house = sorted(diff_house)    # sorting in ascending order\n",
        "diff_house"
      ]
    },
    {
      "cell_type": "code",
      "execution_count": null,
      "metadata": {
        "id": "6UI16-C-FlnD",
        "outputId": "a27ec827-f397-4fd2-b479-0773131edfe2"
      },
      "outputs": [
        {
          "data": {
            "text/html": [
              "<div>\n",
              "<style scoped>\n",
              "    .dataframe tbody tr th:only-of-type {\n",
              "        vertical-align: middle;\n",
              "    }\n",
              "\n",
              "    .dataframe tbody tr th {\n",
              "        vertical-align: top;\n",
              "    }\n",
              "\n",
              "    .dataframe thead th {\n",
              "        text-align: right;\n",
              "    }\n",
              "</style>\n",
              "<table border=\"1\" class=\"dataframe\">\n",
              "  <thead>\n",
              "    <tr style=\"text-align: right;\">\n",
              "      <th></th>\n",
              "      <th>year</th>\n",
              "      <th>Vacant House</th>\n",
              "      <th>Occupied House</th>\n",
              "      <th>Percent of Vacant House</th>\n",
              "      <th>Percent of Occupied House</th>\n",
              "    </tr>\n",
              "  </thead>\n",
              "  <tbody>\n",
              "    <tr>\n",
              "      <th>0</th>\n",
              "      <td>2008</td>\n",
              "      <td>4483</td>\n",
              "      <td>36711</td>\n",
              "      <td>10.882653</td>\n",
              "      <td>89.117347</td>\n",
              "    </tr>\n",
              "    <tr>\n",
              "      <th>1</th>\n",
              "      <td>2009</td>\n",
              "      <td>3583</td>\n",
              "      <td>35916</td>\n",
              "      <td>9.071116</td>\n",
              "      <td>90.928884</td>\n",
              "    </tr>\n",
              "    <tr>\n",
              "      <th>2</th>\n",
              "      <td>2010</td>\n",
              "      <td>3635</td>\n",
              "      <td>41007</td>\n",
              "      <td>8.142556</td>\n",
              "      <td>91.857444</td>\n",
              "    </tr>\n",
              "    <tr>\n",
              "      <th>3</th>\n",
              "      <td>2011</td>\n",
              "      <td>4213</td>\n",
              "      <td>40704</td>\n",
              "      <td>9.379522</td>\n",
              "      <td>90.620478</td>\n",
              "    </tr>\n",
              "    <tr>\n",
              "      <th>4</th>\n",
              "      <td>2012</td>\n",
              "      <td>3013</td>\n",
              "      <td>42108</td>\n",
              "      <td>6.677600</td>\n",
              "      <td>93.322400</td>\n",
              "    </tr>\n",
              "    <tr>\n",
              "      <th>5</th>\n",
              "      <td>2013</td>\n",
              "      <td>4215</td>\n",
              "      <td>43673</td>\n",
              "      <td>8.801788</td>\n",
              "      <td>91.198212</td>\n",
              "    </tr>\n",
              "    <tr>\n",
              "      <th>6</th>\n",
              "      <td>2014</td>\n",
              "      <td>2814</td>\n",
              "      <td>46295</td>\n",
              "      <td>5.730111</td>\n",
              "      <td>94.269889</td>\n",
              "    </tr>\n",
              "  </tbody>\n",
              "</table>\n",
              "</div>"
            ],
            "text/plain": [
              "   year  Vacant House  Occupied House  Percent of Vacant House  \\\n",
              "0  2008          4483           36711                10.882653   \n",
              "1  2009          3583           35916                 9.071116   \n",
              "2  2010          3635           41007                 8.142556   \n",
              "3  2011          4213           40704                 9.379522   \n",
              "4  2012          3013           42108                 6.677600   \n",
              "5  2013          4215           43673                 8.801788   \n",
              "6  2014          2814           46295                 5.730111   \n",
              "\n",
              "   Percent of Occupied House  \n",
              "0                  89.117347  \n",
              "1                  90.928884  \n",
              "2                  91.857444  \n",
              "3                  90.620478  \n",
              "4                  93.322400  \n",
              "5                  91.198212  \n",
              "6                  94.269889  "
            ]
          },
          "execution_count": 21,
          "metadata": {},
          "output_type": "execute_result"
        }
      ],
      "source": [
        "# (2) For all the years, calculate the percentage of housing units which are vacant and occupied.\n",
        "# Print the results in the following format: Year Vacant Housing Units Occupied Housing Units\n",
        "\n",
        "unique_years = sorted(list(house['year'].unique()))   # legging list of unique year number\n",
        "\n",
        "# number of ocupied houses\n",
        "occuped_houses = house[house['title_field'] == 'Occupied Housing Units'].sort_values(by=['year'])\n",
        "\n",
        "# number of vacant houses\n",
        "vacant_houses = house[house['title_field'] == 'Vacant Housing Units'].sort_values(by=['year'])\n",
        "\n",
        "new_house_df = pd.DataFrame()\n",
        "new_house_df['year'] = unique_years\n",
        "new_house_df['Vacant House'] = vacant_houses['value'].values\n",
        "new_house_df['Occupied House'] = occuped_houses['value'].values\n",
        "new_house_df['Percent of Vacant House'] = [(new_house_df['Vacant House'][loop1] * 100) /\\\n",
        "                                           (new_house_df['Vacant House'][loop1] + new_house_df['Occupied House'][loop1])\\\n",
        "                                           for loop1 in range(len(new_house_df))]\n",
        "new_house_df['Percent of Occupied House'] = [(new_house_df['Occupied House'][loop1] * 100) /\\\n",
        "                                           (new_house_df['Vacant House'][loop1] + new_house_df['Occupied House'][loop1])\\\n",
        "                                           for loop1 in range(len(new_house_df))]\n",
        "new_house_df"
      ]
    },
    {
      "cell_type": "code",
      "execution_count": null,
      "metadata": {
        "id": "0KhmDxgkFlnE",
        "outputId": "91386f45-8f4b-43e7-9c4c-a7c677d5e96e"
      },
      "outputs": [
        {
          "data": {
            "text/html": [
              "<div>\n",
              "<style scoped>\n",
              "    .dataframe tbody tr th:only-of-type {\n",
              "        vertical-align: middle;\n",
              "    }\n",
              "\n",
              "    .dataframe tbody tr th {\n",
              "        vertical-align: top;\n",
              "    }\n",
              "\n",
              "    .dataframe thead th {\n",
              "        text-align: right;\n",
              "    }\n",
              "</style>\n",
              "<table border=\"1\" class=\"dataframe\">\n",
              "  <thead>\n",
              "    <tr style=\"text-align: right;\">\n",
              "      <th></th>\n",
              "      <th>year</th>\n",
              "      <th>title_field</th>\n",
              "      <th>value</th>\n",
              "    </tr>\n",
              "  </thead>\n",
              "  <tbody>\n",
              "    <tr>\n",
              "      <th>2</th>\n",
              "      <td>2014</td>\n",
              "      <td>Occupied Housing Units</td>\n",
              "      <td>46295</td>\n",
              "    </tr>\n",
              "  </tbody>\n",
              "</table>\n",
              "</div>"
            ],
            "text/plain": [
              "   year             title_field  value\n",
              "2  2014  Occupied Housing Units  46295"
            ]
          },
          "execution_count": 23,
          "metadata": {},
          "output_type": "execute_result"
        }
      ],
      "source": [
        "# (3) Calculate and print the valued and years in which the highest number of housing units were vacant and occupied.\n",
        "# Print the results in the following format:\n",
        "\n",
        "# the highest number of vacant housing units\n",
        "max_vacant_houses = max(house[house['title_field'] == 'Vacant Housing Units'].value)\n",
        "vacant_houses = vacant_houses[vacant_houses['value'] == max_vacant_houses]\n",
        "vacant_houses\n",
        "\n",
        "\n",
        "# the highest number of Occupied housing units\n",
        "max_occuped_houses = max(house[house['title_field'] == 'Occupied Housing Units'].value)\n",
        "occuped_houses = occuped_houses[occuped_houses['value'] == max_occuped_houses]\n",
        "occuped_houses"
      ]
    },
    {
      "cell_type": "code",
      "execution_count": null,
      "metadata": {
        "id": "YOBvupWEFlnF",
        "outputId": "0b2eb63b-5f6b-4f11-b26a-a621c2ede144"
      },
      "outputs": [
        {
          "name": "stdout",
          "output_type": "stream",
          "text": [
            "44398.28543969185\n"
          ]
        }
      ],
      "source": [
        "# (4) Calculate the harmonic mean of the total housing units and print it out.\n",
        "\n",
        "print(statistics.harmonic_mean(list(house[house['title_field'] == 'Total Housing Units'].value)))"
      ]
    },
    {
      "cell_type": "code",
      "execution_count": null,
      "metadata": {
        "id": "ys4M3K67FlnG"
      },
      "outputs": [],
      "source": [
        "#***************************THE    END**************************************"
      ]
    },
    {
      "cell_type": "code",
      "execution_count": null,
      "metadata": {
        "id": "5HEQ5qnCFlnH"
      },
      "outputs": [],
      "source": []
    }
  ],
  "metadata": {
    "colab": {
      "provenance": [],
      "include_colab_link": true
    },
    "kernelspec": {
      "display_name": "Python 3 (ipykernel)",
      "language": "python",
      "name": "python3"
    },
    "language_info": {
      "codemirror_mode": {
        "name": "ipython",
        "version": 3
      },
      "file_extension": ".py",
      "mimetype": "text/x-python",
      "name": "python",
      "nbconvert_exporter": "python",
      "pygments_lexer": "ipython3",
      "version": "3.10.4"
    }
  },
  "nbformat": 4,
  "nbformat_minor": 0
}