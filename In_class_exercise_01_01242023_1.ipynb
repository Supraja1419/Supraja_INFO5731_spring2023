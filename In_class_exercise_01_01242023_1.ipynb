{
  "cells": [
    {
      "cell_type": "markdown",
      "metadata": {
        "id": "view-in-github",
        "colab_type": "text"
      },
      "source": [
        "<a href=\"https://colab.research.google.com/github/Supraja1419/Supraja_INFO5731_spring2023/blob/main/In_class_exercise_01_01242023_1.ipynb\" target=\"_parent\"><img src=\"https://colab.research.google.com/assets/colab-badge.svg\" alt=\"Open In Colab\"/></a>"
      ]
    },
    {
      "cell_type": "markdown",
      "metadata": {
        "id": "DymRJbxDBCnf"
      },
      "source": [
        "# **The first In-class-exercise (01/24/2023, 40 points in total)**"
      ]
    },
    {
      "cell_type": "markdown",
      "metadata": {
        "id": "03jb4GZsBkBS"
      },
      "source": [
        "(1) Write a Python program to calculate the length of a string. (4 points)"
      ]
    },
    {
      "cell_type": "code",
      "execution_count": null,
      "metadata": {
        "id": "YaGLbSHHB8Ej",
        "outputId": "11bfe769-0d96-4f0a-fbb7-07a3681cc182"
      },
      "outputs": [
        {
          "name": "stdout",
          "output_type": "stream",
          "text": [
            "Enter a string: \"Welcome to Everyone\"\n",
            "Length of string \"Welcome to Everyone\" is: 21\n"
          ]
        }
      ],
      "source": [
        "# write your answer here\n",
        "def getLength(s):\n",
        "    return len(s)\n",
        "\n",
        "# Testing\n",
        "s = input(\"Enter a string: \")\n",
        "print(\"Length of string\",s,\"is:\",getLength(s))"
      ]
    },
    {
      "cell_type": "markdown",
      "metadata": {
        "id": "jJDe71iLB616"
      },
      "source": [
        "(2) Write a Python program to count the number of characters in a string. (4 points)\n",
        "\n",
        "Sample String : 'google.com‘, \n",
        "\n",
        "Expected Result : {'o': 3, 'g': 2, '.': 1, 'e': 1, 'l': 1, 'm': 1, 'c': 1}"
      ]
    },
    {
      "cell_type": "code",
      "execution_count": null,
      "metadata": {
        "id": "MtKskTzbCLaU",
        "outputId": "d6df9f6a-3f50-48e0-c9c3-196dd7bcff07"
      },
      "outputs": [
        {
          "name": "stdout",
          "output_type": "stream",
          "text": [
            "Count of all characters in google.com is :\n",
            " Counter({'o': 3, 'g': 2, 'l': 1, 'e': 1, '.': 1, 'c': 1, 'm': 1})\n"
          ]
        }
      ],
      "source": [
        "# write your answer here\n",
        "\n",
        "# Python3 code to demonstrate\n",
        "# each occurrence frequency using\n",
        "# collections.Counter()\n",
        "from collections import Counter\n",
        " \n",
        "# initializing string\n",
        "test_str = \"google.com\"\n",
        " \n",
        "# using collections.Counter() to get\n",
        "# count of each element in string\n",
        "res = Counter(test_str)\n",
        " \n",
        "# printing result\n",
        "print(\"Count of all characters in google.com is :\\n \"\n",
        "      + str(res))"
      ]
    },
    {
      "cell_type": "markdown",
      "metadata": {
        "id": "55W9AMdXCSpV"
      },
      "source": [
        "(3) Write a Python program to sum all the items in a list. (4 points)"
      ]
    },
    {
      "cell_type": "code",
      "execution_count": null,
      "metadata": {
        "id": "I57NXsauCec2",
        "outputId": "f79c558e-7280-4a70-e7a6-4f3a7f7680ff"
      },
      "outputs": [
        {
          "name": "stdout",
          "output_type": "stream",
          "text": [
            "Sum of all elements in a given list:  63\n"
          ]
        }
      ],
      "source": [
        "# write your answer here\n",
        "total = 0 \n",
        " \n",
        "list1 = [ 5, 17, 18, 23] \n",
        " \n",
        "for ele in range(0, len(list1)): \n",
        "\ttotal = total + list1[ele] \n",
        " \n",
        "print(\"Sum of all elements in a given list: \", total) "
      ]
    },
    {
      "cell_type": "markdown",
      "metadata": {
        "id": "4ulBZ6yhCi9F"
      },
      "source": [
        "(4) Write a Python program to get a string from a given string where all occurrences of its first char have been changed to '\\$', except the first char itself. (4 points)\n",
        "\n",
        "Sample String : 'restart‘, \n",
        "\n",
        "Expected Result : 'resta\\$t'"
      ]
    },
    {
      "cell_type": "code",
      "execution_count": null,
      "metadata": {
        "id": "Fj0XhwbBCw2o",
        "outputId": "41cc9fd7-3d30-4c38-ff75-c28aee5beab3"
      },
      "outputs": [
        {
          "name": "stdout",
          "output_type": "stream",
          "text": [
            "resta$t\n"
          ]
        }
      ],
      "source": [
        "# write your answer here\n",
        "def change_char(str1):  \n",
        "  char = str1[0]  \n",
        "  length = len(str1)  \n",
        "  str1 = str1.replace(char, '$')  \n",
        "  str1 = char + str1[1:]  \n",
        "  \n",
        "  return str1  \n",
        "  \n",
        "print(change_char('restart'))  "
      ]
    },
    {
      "cell_type": "markdown",
      "metadata": {
        "id": "_bIP7s1MCzue"
      },
      "source": [
        "(5) Write a program with python which could accept two parameter a and b to calculate and output the result of S, where \n",
        "\n",
        "$\\ S=3.14*(1+a/b)^3$ (4 points)\n",
        "\n"
      ]
    },
    {
      "cell_type": "code",
      "execution_count": null,
      "metadata": {
        "id": "w79QilHXD3Mg",
        "outputId": "852e4107-67e7-40c2-e2eb-6cf76934c624"
      },
      "outputs": [
        {
          "name": "stdout",
          "output_type": "stream",
          "text": [
            "1,2\n",
            "10.5975\n"
          ]
        }
      ],
      "source": [
        "# write your answer here\n",
        "a,b = map(int, input().split(\",\"))\n",
        "S = 3.14*(1+a/b)**3\n",
        "print (S)"
      ]
    },
    {
      "cell_type": "markdown",
      "metadata": {
        "id": "xCa2bK9aD4Q3"
      },
      "source": [
        "(6) Write a Python program to concatenate following dictionaries to create a new one. (4 points)\n",
        "\n",
        "Sample Dictionary : dic1={1:10, 2:20}, dic2={3:30, 4:40}, dic3={5:50,6:60}, \n",
        "\n",
        "Expected Result : {1: 10, 2: 20, 3: 30, 4: 40, 5: 50, 6: 60}\n"
      ]
    },
    {
      "cell_type": "code",
      "execution_count": null,
      "metadata": {
        "id": "_z4aLqAbEET1",
        "outputId": "aa22f774-4e65-4b4e-b7ae-dca78504ff3c"
      },
      "outputs": [
        {
          "name": "stdout",
          "output_type": "stream",
          "text": [
            "The resultant dictionary after concatenation is: {'1': 10, '2': 20, '3': 30, '4': 40, '5': 50, '6': 60}\n"
          ]
        }
      ],
      "source": [
        "# write your answer here\n",
        "d1={'1':10,'2':20}\n",
        "d2={'3':30,'4':40}\n",
        "d3={'5':50,'6':60}\n",
        "d4={}\n",
        "for d in (d1,d2,d3):\n",
        "    d4.update(d)\n",
        "print(\"The resultant dictionary after concatenation is:\",end=\" \");\n",
        "print(d4)"
      ]
    },
    {
      "cell_type": "markdown",
      "metadata": {
        "id": "0v48Vqa7FrQh"
      },
      "source": [
        "(7) Write a Python program to check whether an element exists within a tuple. (4 points)"
      ]
    },
    {
      "cell_type": "code",
      "execution_count": null,
      "metadata": {
        "id": "7WEmgq-DF2P1",
        "outputId": "e5ec4d96-a989-47f5-974c-e80049bf0e36"
      },
      "outputs": [
        {
          "name": "stdout",
          "output_type": "stream",
          "text": [
            "The tuple is: (1, 2, 3, 4, 5, 10, 32, 15, 23)\n",
            "100 exists in t:  False\n",
            "10 exists in t:  True\n",
            "23 exists in t:  True\n"
          ]
        }
      ],
      "source": [
        "# write your answer here\n",
        "# STEP 1 - Define a tuple with data\n",
        "t = (1, 2, 3, 4, 5, 10, 32, 15, 23)\n",
        "\n",
        "# STEP 2 - Print the tuple on screen\n",
        "print('The tuple is:', t)\n",
        "\n",
        "# STEP 3 -- Check if any value 100 exist.\n",
        "# We will use \"in\" membership operator.\n",
        "print('100 exists in t: ', (100 in t))\n",
        "\n",
        "# -- Check if any value 10 exist.\n",
        "print('10 exists in t: ', (10 in t))\n",
        "\n",
        "# -- Check if any value 23 exist.\n",
        "print('23 exists in t: ', (23 in t))"
      ]
    },
    {
      "cell_type": "markdown",
      "metadata": {
        "id": "vD5PYLMuGga_"
      },
      "source": [
        "(8) Write a Python program to find maximum and the minimum value in a set. (4 points)"
      ]
    },
    {
      "cell_type": "code",
      "execution_count": null,
      "metadata": {
        "id": "t0D5kdJUGjjw",
        "outputId": "7828ed8a-e9c7-440a-d385-23557d08eb75"
      },
      "outputs": [
        {
          "name": "stdout",
          "output_type": "stream",
          "text": [
            "Original set elements:\n",
            "{2, 3, 20, 5, 10, 15}\n",
            "<class 'set'>\n",
            "\n",
            "Maximum value of the said set:\n",
            "20\n",
            "\n",
            "Minimum value of the said set:\n",
            "2\n"
          ]
        }
      ],
      "source": [
        "# write your answer here\n",
        "#Create a set\n",
        "setn = {5, 10, 3, 15, 2, 20}\n",
        "print(\"Original set elements:\")\n",
        "print(setn)\n",
        "print(type(setn))\n",
        "print(\"\\nMaximum value of the said set:\")\n",
        "print(max(setn))\n",
        "print(\"\\nMinimum value of the said set:\")\n",
        "print(min(setn))"
      ]
    },
    {
      "cell_type": "markdown",
      "metadata": {
        "id": "uHkd-y5VhVWC"
      },
      "source": [
        "(9) Write a Python program to randomly divide the students in this class into six groups for term projects, each group should have at least 4 students but no more than 6 students (including 6). Here is the students list: (4 points)\n",
        "\n",
        "studnet_list = ['ja0964','sa1198','sb1357','vb0218','sc1229','kg0569','kg0470','sg1297','bg0320','fh0141','jl1252','sk1386',\n",
        "           'ak0956','sk1390','sk1458','sk1313','ak0934','vm0377','nm0618','sm1640','sm1907','gn0108','pr0353','dr0609','ms1500','aos0040','ds0814', 'av0659','nv0234','hy0232']"
      ]
    },
    {
      "cell_type": "code",
      "execution_count": null,
      "metadata": {
        "id": "3iGbmcOBhTwy",
        "outputId": "bddb3cb1-5636-491e-87a8-3a948b3f483c"
      },
      "outputs": [
        {
          "name": "stdout",
          "output_type": "stream",
          "text": [
            "Group 1\n",
            "Student ID sk1386\n",
            "Student ID pr0353\n",
            "Student ID sb1357\n",
            "Student ID sm1640\n",
            "Student ID jl1252\n",
            "Cases: case5, case2, case13, case23, case30, case12, \n",
            "- - - - -\n",
            "Group 2\n",
            "Student ID sc1229\n",
            "Student ID ja0964\n",
            "Student ID kg0569\n",
            "Student ID gn0108\n",
            "Student ID sa1198\n",
            "Cases: case19, case36, case1, case18, case31, case15, \n",
            "- - - - -\n",
            "Group 3\n",
            "Student ID vm0377\n",
            "Student ID sm1907\n",
            "Student ID sk1313\n",
            "Student ID dr0609\n",
            "Student ID aos0040\n",
            "Cases: case24, case37, case26, case20, case3, case33, \n",
            "- - - - -\n",
            "Group 4\n",
            "Student ID ds0814\n",
            "Student ID sk1390\n",
            "Student ID nv0234\n",
            "Student ID av0659\n",
            "Student ID ak0956\n",
            "Cases: case27, case28, case40, case4, case35, case29, \n",
            "- - - - -\n",
            "Group 5\n",
            "Student ID bg0320\n",
            "Student ID sk1458\n",
            "Student ID ms1500\n",
            "Student ID sg1297\n",
            "Student ID hy0232\n",
            "Cases: case10, case25, case6, case17, case8, case21, \n",
            "- - - - -\n",
            "Group 6\n",
            "Student ID fh0141\n",
            "Student ID vb0218\n",
            "Student ID ak0934\n",
            "Student ID kg0470\n",
            "Student ID nm0618\n",
            "Cases: case9, case22, case7, case11, case32, case16, \n",
            "- - - - -\n"
          ]
        }
      ],
      "source": [
        "# write your answer here\n",
        "import random\n",
        "\n",
        "students_list = ['ja0964','sa1198','sb1357','vb0218','sc1229','kg0569','kg0470','sg1297','bg0320','fh0141','jl1252','sk1386', 'ak0956','sk1390','sk1458','sk1313','ak0934','vm0377','nm0618','sm1640','sm1907','gn0108','pr0353','dr0609','ms1500','aos0040','ds0814', 'av0659','nv0234','hy0232']\n",
        "cases_list = ['case1','case2','case3','case4','case5','case6','case7','case8','case9','case10'\n",
        "              ,'case11','case12','case13','case14','case15','case16','case17','case18','case19','case20'\n",
        "              ,'case21','case22','case23','case24','case25','case26','case27','case28','case29','case30'\n",
        "              ,'case31','case32','case33','case34','case35','case36','case37','case38','case39','case40']\n",
        "random.shuffle(students_list)\n",
        "random.shuffle(cases_list)\n",
        "\n",
        "groups = [students_list[i:i + 5] for i in range(0, len(students_list), 5)]\n",
        "\n",
        "for i, g in enumerate(groups):\n",
        "    print(\"Group\", i + 1 )\n",
        "\n",
        "    for s in g:\n",
        "        print(\"Student ID\", s)\n",
        "\n",
        "    print(\"Cases: \", end = \"\")\n",
        "\n",
        "    for j in range(i * 6, (i * 6) + 6):\n",
        "        print(cases_list[j], end = \", \")\n",
        "\n",
        "    print(\"\\n- - - - -\")"
      ]
    },
    {
      "cell_type": "markdown",
      "metadata": {
        "id": "9oFcgFCXsOCK"
      },
      "source": [
        "(10) Write a Python program to find the duplicate elements in a given array of integers. Return -1 If there are no such elements. (4 points)"
      ]
    },
    {
      "cell_type": "code",
      "execution_count": null,
      "metadata": {
        "id": "8lCfQ4kCsOCK",
        "outputId": "0b1e0373-5ee0-48f5-abe7-3b0f6edcb851"
      },
      "outputs": [
        {
          "name": "stdout",
          "output_type": "stream",
          "text": [
            "[3, 2]\n",
            "-1\n"
          ]
        }
      ],
      "source": [
        "# write your answer here\n",
        "def findDuplicates(array):\n",
        "    result = []\n",
        "    for x in array:\n",
        "        if (array.count(x)>1) and (x not in result):\n",
        "            result.append(x)\n",
        "    if len(result)==0:\n",
        "        return -1\n",
        "    else:\n",
        "        return result\n",
        "\n",
        "# Testing\n",
        "print(findDuplicates([3,2,4,3,2,5,3,7]))\n",
        "print(findDuplicates([4,2,3,1,5]))\n"
      ]
    },
    {
      "cell_type": "markdown",
      "metadata": {
        "id": "yCQdY3sFsOCL"
      },
      "source": [
        "(11) Write a Python program to select all the Sundays of a specified year. (4 extra points)"
      ]
    },
    {
      "cell_type": "code",
      "execution_count": null,
      "metadata": {
        "id": "MJenUxkasOCL",
        "outputId": "55ed468b-cb39-48a3-971e-14df77e2a940"
      },
      "outputs": [
        {
          "name": "stdout",
          "output_type": "stream",
          "text": [
            "Enter year: 2023\n",
            "2023-01-01\n",
            "2023-01-08\n",
            "2023-01-15\n",
            "2023-01-22\n",
            "2023-01-29\n",
            "2023-02-05\n",
            "2023-02-12\n",
            "2023-02-19\n",
            "2023-02-26\n",
            "2023-03-05\n",
            "2023-03-12\n",
            "2023-03-19\n",
            "2023-03-26\n",
            "2023-04-02\n",
            "2023-04-09\n",
            "2023-04-16\n",
            "2023-04-23\n",
            "2023-04-30\n",
            "2023-05-07\n",
            "2023-05-14\n",
            "2023-05-21\n",
            "2023-05-28\n",
            "2023-06-04\n",
            "2023-06-11\n",
            "2023-06-18\n",
            "2023-06-25\n",
            "2023-07-02\n",
            "2023-07-09\n",
            "2023-07-16\n",
            "2023-07-23\n",
            "2023-07-30\n",
            "2023-08-06\n",
            "2023-08-13\n",
            "2023-08-20\n",
            "2023-08-27\n",
            "2023-09-03\n",
            "2023-09-10\n",
            "2023-09-17\n",
            "2023-09-24\n",
            "2023-10-01\n",
            "2023-10-08\n",
            "2023-10-15\n",
            "2023-10-22\n",
            "2023-10-29\n",
            "2023-11-05\n",
            "2023-11-12\n",
            "2023-11-19\n",
            "2023-11-26\n",
            "2023-12-03\n",
            "2023-12-10\n",
            "2023-12-17\n",
            "2023-12-24\n",
            "2023-12-31\n"
          ]
        }
      ],
      "source": [
        "# write your answer here\n",
        "\n",
        "#headerfile to get date and time \n",
        "from datetime import date, timedelta\n",
        "\n",
        "def sundays(year):\n",
        "# January 1st of the given year\n",
        "       dt = date(year, 1, 1)\n",
        "# First Sunday of the given year       \n",
        "       dt += timedelta(days = 6 - dt.weekday())  \n",
        "       while dt.year == year:\n",
        "          yield dt\n",
        "          dt += timedelta(days = 7)\n",
        "#get year from user \n",
        "year=(int(input(\"Enter year: \")));\n",
        "for s in sundays(year):\n",
        "   print(s)\n"
      ]
    }
  ],
  "metadata": {
    "colab": {
      "provenance": [],
      "include_colab_link": true
    },
    "kernelspec": {
      "display_name": "Python 3 (ipykernel)",
      "language": "python",
      "name": "python3"
    },
    "language_info": {
      "codemirror_mode": {
        "name": "ipython",
        "version": 3
      },
      "file_extension": ".py",
      "mimetype": "text/x-python",
      "name": "python",
      "nbconvert_exporter": "python",
      "pygments_lexer": "ipython3",
      "version": "3.10.4"
    }
  },
  "nbformat": 4,
  "nbformat_minor": 0
}